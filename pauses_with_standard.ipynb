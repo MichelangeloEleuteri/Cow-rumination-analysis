{
 "cells": [
  {
   "cell_type": "code",
   "execution_count": 2,
   "id": "db94b8d5",
   "metadata": {},
   "outputs": [
    {
     "name": "stdout",
     "output_type": "stream",
     "text": [
      "=== Pause rilevate (OR + 10° pct, dur>=2s) ===\n",
      "#1: 20.36s → 23.35s  (dur 2.99s)\n",
      "#2: 69.76s → 74.97s  (dur 5.21s)\n",
      "#3: 111.87s → 116.09s  (dur 4.22s)\n",
      "#4: 166.33s → 170.43s  (dur 4.09s)\n"
     ]
    }
   ],
   "source": [
    "import pandas as pd\n",
    "import numpy as np\n",
    "from scipy.signal import medfilt\n",
    "\n",
    "# Carica\n",
    "ACC_CSV = r\"C:\\Users\\eleut\\OneDrive\\Desktop\\Cow during rumination\\video2\\segment_01.csv\"\n",
    "acc = pd.read_csv(ACC_CSV)\n",
    "acc['time_s'] = acc['time_ms'].astype(float) / 1000.0\n",
    "\n",
    "# Sampling rate e finestra 1 s\n",
    "fs = int(round(1 / acc['time_s'].diff().median()))\n",
    "\n",
    "# Rolling‑std\n",
    "acc['std_nm']  = acc['norm_mavg'].rolling(fs, center=True).std()\n",
    "acc['std_xsg'] = acc['x_sg'].rolling(fs, center=True).std()\n",
    "\n",
    "# Soglie 10° percentile\n",
    "thr_nm  = np.percentile(acc['std_nm'].dropna(), 10)\n",
    "thr_xsg = np.percentile(acc['std_xsg'].dropna(), 10)\n",
    "\n",
    "# Flag pausa = OR dei due criteri\n",
    "acc['pause_flag'] = (acc['std_nm']  < thr_nm) | (acc['std_xsg'] < thr_xsg)\n",
    "\n",
    "# Smussa con filtro mediano\n",
    "acc['pause_flag_sm'] = medfilt(acc['pause_flag'].astype(int), kernel_size=5).astype(bool)\n",
    "\n",
    "# Segmentazione e filtro durata ≥2s\n",
    "acc['seg'] = (acc['pause_flag_sm'] != acc['pause_flag_sm'].shift(1)).cumsum()\n",
    "segs = (acc[acc['pause_flag_sm']]\n",
    "        .groupby('seg')\n",
    "        .agg(start_s=('time_s','min'), end_s=('time_s','max'))\n",
    "        .assign(dur=lambda df: df.end_s - df.start_s)\n",
    "        .query('dur >= 2.0')\n",
    "        .reset_index(drop=True))\n",
    "\n",
    "# Stampa\n",
    "print(\"=== Pause rilevate (OR + 10° pct, dur>=2s) ===\")\n",
    "for i, row in segs.iterrows():\n",
    "    print(f\"#{i+1}: {row.start_s:.2f}s → {row.end_s:.2f}s  (dur {row.dur:.2f}s)\")"
   ]
  },
  {
   "cell_type": "code",
   "execution_count": null,
   "id": "c0f35049",
   "metadata": {},
   "outputs": [],
   "source": []
  }
 ],
 "metadata": {
  "kernelspec": {
   "display_name": "Python 3",
   "language": "python",
   "name": "python3"
  },
  "language_info": {
   "codemirror_mode": {
    "name": "ipython",
    "version": 3
   },
   "file_extension": ".py",
   "mimetype": "text/x-python",
   "name": "python",
   "nbconvert_exporter": "python",
   "pygments_lexer": "ipython3",
   "version": "3.11.9"
  }
 },
 "nbformat": 4,
 "nbformat_minor": 5
}
