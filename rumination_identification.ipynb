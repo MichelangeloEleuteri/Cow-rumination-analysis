{
  "cells": [
    {
      "cell_type": "code",
      "execution_count": 1,
      "metadata": {
        "colab": {
          "base_uri": "https://localhost:8080/"
        },
        "id": "fWkbfy_9AOrv",
        "outputId": "33d166b1-df7b-41e6-c11a-cca0f064bc94"
      },
      "outputs": [
        {
          "name": "stdout",
          "output_type": "stream",
          "text": [
            "Drive already mounted at /content/drive; to attempt to forcibly remount, call drive.mount(\"/content/drive\", force_remount=True).\n",
            "Using device: cuda\n"
          ]
        }
      ],
      "source": [
        "# Monta Google Drive\n",
        "from google.colab import drive\n",
        "drive.mount('/content/drive')\n",
        "\n",
        "# Librerie\n",
        "import os, time, random\n",
        "from pathlib import Path\n",
        "import numpy as np\n",
        "import torch\n",
        "import torch.nn as nn\n",
        "import torch.optim as optim\n",
        "from torchvision import models, transforms\n",
        "from torch.utils.data import Dataset, DataLoader\n",
        "from PIL import Image\n",
        "from sklearn.metrics import accuracy_score, f1_score, roc_auc_score, confusion_matrix\n",
        "from collections import Counter\n",
        "\n",
        "# Imposta seed e device\n",
        "random.seed(42)\n",
        "np.random.seed(42)\n",
        "torch.manual_seed(42)\n",
        "device = torch.device(\"cuda\" if torch.cuda.is_available() else \"cpu\")\n",
        "if device.type=='cuda':\n",
        "    torch.cuda.manual_seed(42)\n",
        "print(f\"Using device: {device}\")\n",
        "\n",
        "# 1) PERCORSI AI DATI ORGANIZZATI\n",
        "TENT_ROOT = Path(\"/content/drive/MyDrive/rumination_project/tentativo\")\n",
        "train_root_dirs = [\n",
        "    TENT_ROOT/\"video1\"/\"train\",\n",
        "    TENT_ROOT/\"video2\"/\"train\"\n",
        "]\n",
        "val_root_dirs = [\n",
        "    TENT_ROOT/\"video1\"/\"val\",\n",
        "    TENT_ROOT/\"video2\"/\"val\"\n",
        "]\n"
      ]
    },
    {
      "cell_type": "code",
      "execution_count": 2,
      "metadata": {
        "colab": {
          "base_uri": "https://localhost:8080/"
        },
        "id": "tdYPxurGAOpK",
        "outputId": "5521c260-a0ea-4182-c57e-3dcc0d1cb665"
      },
      "outputs": [
        {
          "name": "stdout",
          "output_type": "stream",
          "text": [
            " Train images: 2043; class dist: Counter({0: 1243, 1: 800})\n",
            " Val   images: 2044; class dist: Counter({0: 1244, 1: 800})\n"
          ]
        }
      ],
      "source": [
        "# 2) RACCOGLI PATH E LABEL, CONTEGGIA CLASSI\n",
        "def gather(paths_root):\n",
        "    paths, labels = [], []\n",
        "    for root in paths_root:\n",
        "        pos_dir = root/\"pos\"\n",
        "        neg_dir = root/\"neg\"\n",
        "        for p in pos_dir.rglob(\"*.jpg\"):\n",
        "            paths.append(str(p)); labels.append(1)\n",
        "        for p in neg_dir.rglob(\"*.jpg\"):\n",
        "            paths.append(str(p)); labels.append(0)\n",
        "    return paths, labels\n",
        "\n",
        "train_paths, train_labels = gather(train_root_dirs)\n",
        "val_paths,   val_labels   = gather(val_root_dirs)\n",
        "\n",
        "print(f\" Train images: {len(train_paths)}; class dist: {Counter(train_labels)}\")\n",
        "print(f\" Val   images: {len(val_paths)}; class dist: {Counter(val_labels)}\")\n",
        "\n",
        "# 3) TRANSFORMS\n",
        "train_tf = transforms.Compose([\n",
        "    transforms.Resize((256,256)),\n",
        "    transforms.RandomResizedCrop(224, scale=(0.7,1.0), ratio=(0.8,1.2)),\n",
        "    transforms.RandomHorizontalFlip(0.5),\n",
        "    transforms.RandomVerticalFlip(0.2),\n",
        "    transforms.RandomRotation(20),\n",
        "    transforms.ColorJitter(0.4,0.4,0.4,0.1),\n",
        "    transforms.RandomGrayscale(0.1),\n",
        "    transforms.RandomAffine(15, translate=(0.1,0.1), scale=(0.9,1.1), shear=10),\n",
        "    transforms.GaussianBlur(3, sigma=(0.1,2.0)),\n",
        "    transforms.RandomPerspective(0.3),\n",
        "    transforms.ToTensor(),\n",
        "    transforms.RandomErasing(0.3, scale=(0.02,0.15), ratio=(0.3,3.3)),\n",
        "    transforms.Normalize([0.485,0.456,0.406],[0.229,0.224,0.225])\n",
        "])\n",
        "val_tf = transforms.Compose([\n",
        "    transforms.Resize((224,224)),\n",
        "    transforms.ToTensor(),\n",
        "    transforms.Normalize([0.485,0.456,0.406],[0.229,0.224,0.225])\n",
        "])"
      ]
    },
    {
      "cell_type": "code",
      "execution_count": 3,
      "metadata": {
        "colab": {
          "base_uri": "https://localhost:8080/"
        },
        "id": "Er6gcTkiAOk9",
        "outputId": "deda72c4-2c21-43ef-e89b-ada952649aa0"
      },
      "outputs": [
        {
          "name": "stderr",
          "output_type": "stream",
          "text": [
            "/usr/local/lib/python3.11/dist-packages/torchvision/models/_utils.py:208: UserWarning: The parameter 'pretrained' is deprecated since 0.13 and may be removed in the future, please use 'weights' instead.\n",
            "  warnings.warn(\n",
            "/usr/local/lib/python3.11/dist-packages/torchvision/models/_utils.py:223: UserWarning: Arguments other than a weight enum or `None` for 'weights' are deprecated since 0.13 and may be removed in the future. The current behavior is equivalent to passing `weights=ResNet18_Weights.IMAGENET1K_V1`. You can also use `weights=ResNet18_Weights.DEFAULT` to get the most up-to-date weights.\n",
            "  warnings.warn(msg)\n",
            "Downloading: \"https://download.pytorch.org/models/resnet18-f37072fd.pth\" to /root/.cache/torch/hub/checkpoints/resnet18-f37072fd.pth\n",
            "100%|██████████| 44.7M/44.7M [00:00<00:00, 177MB/s]\n"
          ]
        },
        {
          "name": "stdout",
          "output_type": "stream",
          "text": [
            "Epoch 1/10 | TrL=0.6898 TrA=0.646 | ValL=0.5679 ValA=0.782 F1=0.728 AUC=0.841\n"
          ]
        },
        {
          "name": "stderr",
          "output_type": "stream",
          "text": [
            "/usr/local/lib/python3.11/dist-packages/torch/optim/lr_scheduler.py:243: UserWarning: The epoch parameter in `scheduler.step()` was not necessary and is being deprecated where possible. Please use `scheduler.step()` to step the scheduler. During the deprecation, if epoch is different from None, the closed form is used instead of the new chainable form, where available. Please open an issue if you are unable to replicate your use case: https://github.com/pytorch/pytorch/issues/new/choose.\n",
            "  warnings.warn(EPOCH_DEPRECATION_WARNING, UserWarning)\n"
          ]
        },
        {
          "name": "stdout",
          "output_type": "stream",
          "text": [
            "Epoch 2/10 | TrL=0.5987 TrA=0.709 | ValL=0.4899 ValA=0.819 F1=0.765 AUC=0.896\n"
          ]
        },
        {
          "name": "stderr",
          "output_type": "stream",
          "text": [
            "/usr/local/lib/python3.11/dist-packages/torch/optim/lr_scheduler.py:243: UserWarning: The epoch parameter in `scheduler.step()` was not necessary and is being deprecated where possible. Please use `scheduler.step()` to step the scheduler. During the deprecation, if epoch is different from None, the closed form is used instead of the new chainable form, where available. Please open an issue if you are unable to replicate your use case: https://github.com/pytorch/pytorch/issues/new/choose.\n",
            "  warnings.warn(EPOCH_DEPRECATION_WARNING, UserWarning)\n"
          ]
        },
        {
          "name": "stdout",
          "output_type": "stream",
          "text": [
            "Epoch 3/10 | TrL=0.5372 TrA=0.774 | ValL=0.6572 ValA=0.746 F1=0.713 AUC=0.850\n"
          ]
        },
        {
          "name": "stderr",
          "output_type": "stream",
          "text": [
            "/usr/local/lib/python3.11/dist-packages/torch/optim/lr_scheduler.py:243: UserWarning: The epoch parameter in `scheduler.step()` was not necessary and is being deprecated where possible. Please use `scheduler.step()` to step the scheduler. During the deprecation, if epoch is different from None, the closed form is used instead of the new chainable form, where available. Please open an issue if you are unable to replicate your use case: https://github.com/pytorch/pytorch/issues/new/choose.\n",
            "  warnings.warn(EPOCH_DEPRECATION_WARNING, UserWarning)\n"
          ]
        },
        {
          "name": "stdout",
          "output_type": "stream",
          "text": [
            "Epoch 4/10 | TrL=0.5015 TrA=0.809 | ValL=0.5147 ValA=0.773 F1=0.709 AUC=0.858\n"
          ]
        },
        {
          "name": "stderr",
          "output_type": "stream",
          "text": [
            "/usr/local/lib/python3.11/dist-packages/torch/optim/lr_scheduler.py:243: UserWarning: The epoch parameter in `scheduler.step()` was not necessary and is being deprecated where possible. Please use `scheduler.step()` to step the scheduler. During the deprecation, if epoch is different from None, the closed form is used instead of the new chainable form, where available. Please open an issue if you are unable to replicate your use case: https://github.com/pytorch/pytorch/issues/new/choose.\n",
            "  warnings.warn(EPOCH_DEPRECATION_WARNING, UserWarning)\n"
          ]
        },
        {
          "name": "stdout",
          "output_type": "stream",
          "text": [
            "Epoch 5/10 | TrL=0.4732 TrA=0.827 | ValL=0.4946 ValA=0.823 F1=0.765 AUC=0.900\n"
          ]
        },
        {
          "name": "stderr",
          "output_type": "stream",
          "text": [
            "/usr/local/lib/python3.11/dist-packages/torch/optim/lr_scheduler.py:243: UserWarning: The epoch parameter in `scheduler.step()` was not necessary and is being deprecated where possible. Please use `scheduler.step()` to step the scheduler. During the deprecation, if epoch is different from None, the closed form is used instead of the new chainable form, where available. Please open an issue if you are unable to replicate your use case: https://github.com/pytorch/pytorch/issues/new/choose.\n",
            "  warnings.warn(EPOCH_DEPRECATION_WARNING, UserWarning)\n"
          ]
        },
        {
          "name": "stdout",
          "output_type": "stream",
          "text": [
            "Epoch 6/10 | TrL=0.4457 TrA=0.846 | ValL=0.5392 ValA=0.778 F1=0.645 AUC=0.907\n"
          ]
        },
        {
          "name": "stderr",
          "output_type": "stream",
          "text": [
            "/usr/local/lib/python3.11/dist-packages/torch/optim/lr_scheduler.py:243: UserWarning: The epoch parameter in `scheduler.step()` was not necessary and is being deprecated where possible. Please use `scheduler.step()` to step the scheduler. During the deprecation, if epoch is different from None, the closed form is used instead of the new chainable form, where available. Please open an issue if you are unable to replicate your use case: https://github.com/pytorch/pytorch/issues/new/choose.\n",
            "  warnings.warn(EPOCH_DEPRECATION_WARNING, UserWarning)\n"
          ]
        },
        {
          "name": "stdout",
          "output_type": "stream",
          "text": [
            "Epoch 7/10 | TrL=0.4442 TrA=0.851 | ValL=0.4680 ValA=0.821 F1=0.752 AUC=0.917\n",
            " Early stopping at epoch 7\n"
          ]
        },
        {
          "name": "stderr",
          "output_type": "stream",
          "text": [
            "/usr/local/lib/python3.11/dist-packages/torch/optim/lr_scheduler.py:243: UserWarning: The epoch parameter in `scheduler.step()` was not necessary and is being deprecated where possible. Please use `scheduler.step()` to step the scheduler. During the deprecation, if epoch is different from None, the closed form is used instead of the new chainable form, where available. Please open an issue if you are unable to replicate your use case: https://github.com/pytorch/pytorch/issues/new/choose.\n",
            "  warnings.warn(EPOCH_DEPRECATION_WARNING, UserWarning)\n"
          ]
        }
      ],
      "source": [
        "# 4) DATASET\n",
        "class SimpleDataset(Dataset):\n",
        "    def __init__(self, paths, labels, tf):\n",
        "        self.paths, self.labels, self.tf = paths, labels, tf\n",
        "    def __len__(self): return len(self.paths)\n",
        "    def __getitem__(self, i):\n",
        "        img = Image.open(self.paths[i]).convert(\"RGB\")\n",
        "        return self.tf(img), torch.tensor(self.labels[i], dtype=torch.long)\n",
        "\n",
        "train_ds = SimpleDataset(train_paths, train_labels, train_tf)\n",
        "val_ds   = SimpleDataset(val_paths,   val_labels,   val_tf)\n",
        "\n",
        "train_loader = DataLoader(train_ds, batch_size=16, shuffle=True,  num_workers=2)\n",
        "val_loader   = DataLoader(val_ds,   batch_size=32, shuffle=False, num_workers=2)\n",
        "\n",
        "# 5) MODELLO ResNet-18\n",
        "class ResNetClassifier(nn.Module):\n",
        "    def __init__(self):\n",
        "        super().__init__()\n",
        "        self.backbone = models.resnet18(pretrained=True)\n",
        "        in_f = self.backbone.fc.in_features\n",
        "        self.backbone.fc = nn.Sequential(\n",
        "            nn.Dropout(0.5),\n",
        "            nn.Linear(in_f,256),\n",
        "            nn.ReLU(inplace=True),\n",
        "            nn.BatchNorm1d(256),\n",
        "            nn.Dropout(0.25),\n",
        "            nn.Linear(256,2)\n",
        "        )\n",
        "    def forward(self,x): return self.backbone(x)\n",
        "\n",
        "model = ResNetClassifier().to(device)\n",
        "\n",
        "# 6) LOSS con pesi di classe dinamici\n",
        "class_counts = Counter(train_labels)\n",
        "total = sum(class_counts.values())\n",
        "class_weights = torch.tensor([\n",
        "    total/class_counts[0],\n",
        "    total/class_counts[1]\n",
        "], device=device)\n",
        "criterion = nn.CrossEntropyLoss(weight=class_weights, label_smoothing=0.1)\n",
        "\n",
        "optimizer = optim.AdamW(model.parameters(), lr=3e-4, weight_decay=1e-4)\n",
        "scheduler = optim.lr_scheduler.CosineAnnealingLR(optimizer, T_max=8)\n",
        "\n",
        "# 7) TRAINING + EARLY STOPPING\n",
        "NUM_EPOCHS = 10\n",
        "PATIENCE   = 5\n",
        "best_f1    = 0.0\n",
        "no_imp     = 0\n",
        "\n",
        "for epoch in range(1, NUM_EPOCHS+1):\n",
        "    # Train\n",
        "    model.train()\n",
        "    tr_preds, tr_trues, tr_loss = [], [], 0.0\n",
        "    for imgs, labs in train_loader:\n",
        "        imgs, labs = imgs.to(device), labs.to(device)\n",
        "        optimizer.zero_grad()\n",
        "        outs = model(imgs)\n",
        "        loss = criterion(outs, labs)\n",
        "        loss.backward(); optimizer.step()\n",
        "        tr_loss += loss.item()\n",
        "        tr_preds += outs.argmax(1).cpu().tolist()\n",
        "        tr_trues += labs.cpu().tolist()\n",
        "    tr_acc = accuracy_score(tr_trues, tr_preds)\n",
        "\n",
        "    # Val\n",
        "    model.eval()\n",
        "    v_preds, v_trues, v_probs, v_loss = [], [], [], 0.0\n",
        "    with torch.no_grad():\n",
        "        for imgs, labs in val_loader:\n",
        "            imgs, labs = imgs.to(device), labs.to(device)\n",
        "            outs = model(imgs)\n",
        "            v_loss += criterion(outs, labs).item()\n",
        "            prob = torch.softmax(outs,1)[:,1].cpu().tolist()\n",
        "            v_probs += prob\n",
        "            v_preds += outs.argmax(1).cpu().tolist()\n",
        "            v_trues += labs.cpu().tolist()\n",
        "    v_acc = accuracy_score(v_trues, v_preds)\n",
        "    v_f1  = f1_score(v_trues, v_preds, zero_division=0)\n",
        "    v_auc = roc_auc_score(v_trues, v_probs)\n",
        "\n",
        "    print(f\"Epoch {epoch}/{NUM_EPOCHS} | \"\n",
        "          f\"TrL={tr_loss/len(train_loader):.4f} TrA={tr_acc:.3f} | \"\n",
        "          f\"ValL={v_loss/len(val_loader):.4f} ValA={v_acc:.3f} F1={v_f1:.3f} AUC={v_auc:.3f}\")\n",
        "\n",
        "    scheduler.step(v_f1)\n",
        "\n",
        "    # Early stopping\n",
        "    if v_f1 > best_f1:\n",
        "        best_f1 = v_f1; no_imp = 0\n",
        "        torch.save(model.state_dict(), \"/content/drive/MyDrive/best_resnet18.pth\")\n",
        "    else:\n",
        "        no_imp += 1\n",
        "        if no_imp >= PATIENCE:\n",
        "            print(f\" Early stopping at epoch {epoch}\")\n",
        "            break"
      ]
    },
    {
      "cell_type": "code",
      "execution_count": 4,
      "metadata": {
        "colab": {
          "base_uri": "https://localhost:8080/"
        },
        "id": "iwX8x0F-AOhW",
        "outputId": "9d6007c1-00ea-4c9f-8bbe-84cd03c6b5b4"
      },
      "outputs": [
        {
          "name": "stdout",
          "output_type": "stream",
          "text": [
            " Confusion Matrix on VALIDATION SET:\n",
            " [[1073  171]\n",
            " [ 198  602]]\n"
          ]
        }
      ],
      "source": [
        "# 8) CONFUSION MATRIX FINALE\n",
        "model.load_state_dict(torch.load(\"/content/drive/MyDrive/best_resnet18.pth\", map_location=device))\n",
        "model.eval()\n",
        "all_preds, all_trues = [], []\n",
        "with torch.no_grad():\n",
        "    for imgs, labs in val_loader:\n",
        "        imgs, labs = imgs.to(device), labs.to(device)\n",
        "        outs = model(imgs)\n",
        "        all_preds += outs.argmax(1).cpu().tolist()\n",
        "        all_trues += labs.cpu().tolist()\n",
        "\n",
        "cm = confusion_matrix(all_trues, all_preds)\n",
        "print(\" Confusion Matrix on VALIDATION SET:\\n\", cm)"
      ]
    }
  ],
  "metadata": {
    "accelerator": "GPU",
    "colab": {
      "gpuType": "T4",
      "provenance": []
    },
    "kernelspec": {
      "display_name": "Python 3",
      "name": "python3"
    },
    "language_info": {
      "name": "python"
    }
  },
  "nbformat": 4,
  "nbformat_minor": 0
}
