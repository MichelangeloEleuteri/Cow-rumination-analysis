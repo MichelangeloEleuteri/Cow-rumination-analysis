{
 "cells": [
  {
   "cell_type": "code",
   "execution_count": null,
   "id": "b58771ec",
   "metadata": {},
   "outputs": [],
   "source": [
    "import cv2\n",
    "import os\n"
   ]
  },
  {
   "cell_type": "code",
   "execution_count": 11,
   "id": "488469ca",
   "metadata": {},
   "outputs": [],
   "source": [
    "VIDEO_PATH = r\"C:\\Users\\eleut\\OneDrive\\Desktop\\Cows\\primo\\20250401_123319.mp4\"\n",
    "OUTPUT_DIR = r\"C:\\Users\\eleut\\OneDrive\\Desktop\\Cows\\rumination_project\\frames2\"\n",
    "\n",
    "os.makedirs(OUTPUT_DIR, exist_ok=True)"
   ]
  },
  {
   "cell_type": "code",
   "execution_count": 12,
   "id": "6e7a411f",
   "metadata": {},
   "outputs": [
    {
     "name": "stdout",
     "output_type": "stream",
     "text": [
      "Video: 30.00 fps, 332.72 s long.\n"
     ]
    }
   ],
   "source": [
    "FPS_TARGET  = 8        # frames per second you want\n",
    "cap = cv2.VideoCapture(VIDEO_PATH)\n",
    "fps = cap.get(cv2.CAP_PROP_FPS)\n",
    "total_frames = int(cap.get(cv2.CAP_PROP_FRAME_COUNT))\n",
    "duration_sec = total_frames / fps\n",
    "interval = 1.0 / FPS_TARGET   # seconds between saved frames\n",
    "print(f\"Video: {fps:.2f} fps, {duration_sec:.2f} s long.\")"
   ]
  },
  {
   "cell_type": "code",
   "execution_count": 13,
   "id": "2a6f6bf8",
   "metadata": {},
   "outputs": [
    {
     "name": "stdout",
     "output_type": "stream",
     "text": [
      "Saved 2662 frames to C:\\Users\\eleut\\OneDrive\\Desktop\\Cows\\rumination_project\\frames2\n"
     ]
    }
   ],
   "source": [
    "saved    = 0\n",
    "count    = 0\n",
    "next_t   = 0.0\n",
    "\n",
    "while True:\n",
    "    ret, frame = cap.read()\n",
    "    if not ret:\n",
    "        break\n",
    "\n",
    "    # current time in the video, in seconds\n",
    "    t = count / fps\n",
    "\n",
    "    # save whenever we cross the next time boundary\n",
    "    if t >= next_t:\n",
    "        fname = f\"frame_{saved:05d}_t{t:.2f}.jpg\"\n",
    "        cv2.imwrite(os.path.join(OUTPUT_DIR, fname), frame)\n",
    "        saved += 1\n",
    "        next_t += interval\n",
    "\n",
    "    count += 1\n",
    "\n",
    "cap.release()\n",
    "print(f\"Saved {saved} frames to {OUTPUT_DIR}\")\n"
   ]
  },
  {
   "cell_type": "code",
   "execution_count": null,
   "id": "9235cc28",
   "metadata": {},
   "outputs": [],
   "source": []
  },
  {
   "cell_type": "code",
   "execution_count": null,
   "id": "242e9d6b",
   "metadata": {},
   "outputs": [],
   "source": []
  },
  {
   "cell_type": "code",
   "execution_count": null,
   "id": "ebeb3bbc",
   "metadata": {},
   "outputs": [],
   "source": []
  }
 ],
 "metadata": {
  "kernelspec": {
   "display_name": "Python 3",
   "language": "python",
   "name": "python3"
  },
  "language_info": {
   "codemirror_mode": {
    "name": "ipython",
    "version": 3
   },
   "file_extension": ".py",
   "mimetype": "text/x-python",
   "name": "python",
   "nbconvert_exporter": "python",
   "pygments_lexer": "ipython3",
   "version": "3.11.9"
  }
 },
 "nbformat": 4,
 "nbformat_minor": 5
}
